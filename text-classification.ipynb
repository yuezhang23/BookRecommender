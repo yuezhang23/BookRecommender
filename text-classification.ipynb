{
 "cells": [
  {
   "cell_type": "code",
   "id": "initial_id",
   "metadata": {
    "collapsed": true
   },
   "source": [
    "import pandas as pd\n",
    "\n",
    "books = pd.read_csv(\"books_cleaned.csv\")"
   ],
   "outputs": [],
   "execution_count": null
  },
  {
   "metadata": {},
   "cell_type": "code",
   "source": "books[\"categories\"].value_counts().reset_index()",
   "id": "ad2214ca5c824e59",
   "outputs": [],
   "execution_count": null
  },
  {
   "metadata": {},
   "cell_type": "code",
   "source": "books[\"categories\"].value_counts().reset_index().query(\"count > 50\")",
   "id": "a07d62ea20b3d51f",
   "outputs": [],
   "execution_count": null
  },
  {
   "metadata": {},
   "cell_type": "code",
   "source": "books[books[\"categories\"] == \"Juvenile Fiction\"]",
   "id": "e76f43389f369fe1",
   "outputs": [],
   "execution_count": null
  },
  {
   "metadata": {},
   "cell_type": "code",
   "source": "books[books[\"categories\"] == \"Juvenile Nonfiction\"]",
   "id": "81fe0176b104cda9",
   "outputs": [],
   "execution_count": null
  },
  {
   "metadata": {},
   "cell_type": "code",
   "source": [
    "category_mapping = {'Fiction' : \"Fiction\",\n",
    " 'Juvenile Fiction': \"Children's Fiction\",\n",
    " 'Biography & Autobiography': \"Nonfiction\",\n",
    " 'History': \"Nonfiction\",\n",
    " 'Literary Criticism': \"Nonfiction\",\n",
    " 'Philosophy': \"Nonfiction\",\n",
    " 'Religion': \"Nonfiction\",\n",
    " 'Comics & Graphic Novels': \"Fiction\",\n",
    " 'Drama': \"Fiction\",\n",
    " 'Juvenile Nonfiction': \"Children's Nonfiction\",\n",
    " 'Science': \"Nonfiction\",\n",
    " 'Poetry': \"Fiction\"}\n",
    "\n",
    "books[\"simple_categories\"] = books[\"categories\"].map(category_mapping)"
   ],
   "id": "fcccab946dc6acf1",
   "outputs": [],
   "execution_count": null
  },
  {
   "metadata": {},
   "cell_type": "code",
   "source": "books[~(books[\"simple_categories\"].isna())]",
   "id": "72a23d51bcbc3144",
   "outputs": [],
   "execution_count": null
  },
  {
   "metadata": {},
   "cell_type": "code",
   "outputs": [],
   "execution_count": null,
   "source": "books",
   "id": "abd212b2ffdcb983"
  },
  {
   "metadata": {},
   "cell_type": "code",
   "source": [
    "from transformers import pipeline\n",
    "\n",
    "fiction_categories = [\"Fiction\", \"Nonfiction\"]\n",
    "\n",
    "pipe = pipeline(\"zero-shot-classification\",\n",
    "                model=\"facebook/bart-large-mnli\",\n",
    "                device=\"mps\")\n"
   ],
   "id": "5717b1b3f5008392",
   "outputs": [],
   "execution_count": null
  },
  {
   "metadata": {},
   "cell_type": "code",
   "source": "sequence = books.loc[books[\"simple_categories\"] == \"Fiction\", \"description\"].reset_index(drop=True)[0]",
   "id": "264955275bb863cc",
   "outputs": [],
   "execution_count": null
  },
  {
   "metadata": {},
   "cell_type": "code",
   "outputs": [],
   "execution_count": null,
   "source": "sequence",
   "id": "99e1d1417273a219"
  },
  {
   "metadata": {},
   "cell_type": "code",
   "outputs": [],
   "execution_count": null,
   "source": "pipe(sequence, fiction_categories)",
   "id": "1fcfadda6deeaf8a"
  },
  {
   "metadata": {},
   "cell_type": "code",
   "source": [
    "import numpy as np\n",
    "\n",
    "max_index = np.argmax(pipe(sequence, fiction_categories)[\"scores\"])\n",
    "max_label = pipe(sequence, fiction_categories)[\"labels\"][max_index]\n",
    "max_label"
   ],
   "id": "7db593c8c8658762",
   "outputs": [],
   "execution_count": null
  },
  {
   "metadata": {},
   "cell_type": "code",
   "source": [
    "def generate_predictions(sequence, categories):\n",
    "    predictions = pipe(sequence, categories)\n",
    "    max_index = np.argmax(predictions[\"scores\"])\n",
    "    max_label = predictions[\"labels\"][max_index]\n",
    "    return max_label"
   ],
   "id": "78b5bf4bf4a74fda",
   "outputs": [],
   "execution_count": null
  },
  {
   "metadata": {},
   "cell_type": "code",
   "source": [
    "from tqdm import tqdm\n",
    "\n",
    "actual_cats = []\n",
    "predicted_cats = []\n",
    "\n",
    "for i in tqdm(range(0, 300)):\n",
    "    sequence = books.loc[books[\"simple_categories\"] == \"Fiction\", \"description\"].reset_index(drop=True)[i]\n",
    "    predicted_cats += [generate_predictions(sequence, fiction_categories)]\n",
    "    actual_cats += [\"Fiction\"]"
   ],
   "id": "1d1593f7feefdb08",
   "outputs": [],
   "execution_count": null
  },
  {
   "metadata": {},
   "cell_type": "code",
   "source": [
    "for i in tqdm(range(0, 300)):\n",
    "    sequence = books.loc[books[\"simple_categories\"] == \"Nonfiction\", \"description\"].reset_index(drop=True)[i]\n",
    "    predicted_cats += [generate_predictions(sequence, fiction_categories)]\n",
    "    actual_cats += [\"Nonfiction\"]"
   ],
   "id": "184b55f4d97e9920",
   "outputs": [],
   "execution_count": null
  },
  {
   "metadata": {},
   "cell_type": "code",
   "source": "predictions_df = pd.DataFrame({\"actual_categories\": actual_cats, \"predicted_categories\": predicted_cats})",
   "id": "bbddf92b0bb24cc8",
   "outputs": [],
   "execution_count": null
  },
  {
   "metadata": {},
   "cell_type": "code",
   "source": "predictions_df",
   "id": "aaa8844d7fdbc56",
   "outputs": [],
   "execution_count": null
  },
  {
   "metadata": {},
   "cell_type": "code",
   "source": [
    "predictions_df[\"correct_prediction\"] = (\n",
    "    np.where(predictions_df[\"actual_categories\"] == predictions_df[\"predicted_categories\"], 1, 0)\n",
    ")"
   ],
   "id": "ac6ddf718f0655e8",
   "outputs": [],
   "execution_count": null
  },
  {
   "metadata": {},
   "cell_type": "code",
   "source": "predictions_df[\"correct_prediction\"].sum() / len(predictions_df)",
   "id": "39ebc8cbf5ee1479",
   "outputs": [],
   "execution_count": null
  },
  {
   "metadata": {},
   "cell_type": "code",
   "source": [
    "isbns = []\n",
    "predicted_cats = []\n",
    "\n",
    "missing_cats = books.loc[books[\"simple_categories\"].isna(), [\"isbn13\", \"description\"]].reset_index(drop=True)"
   ],
   "id": "140bb061a604a0dd",
   "outputs": [],
   "execution_count": null
  },
  {
   "metadata": {},
   "cell_type": "code",
   "source": [
    "for i in tqdm(range(0, len(missing_cats))):\n",
    "    sequence = missing_cats[\"description\"][i]\n",
    "    predicted_cats += [generate_predictions(sequence, fiction_categories)]\n",
    "    isbns += [missing_cats[\"isbn13\"][i]]"
   ],
   "id": "c0e0a92239bf2107",
   "outputs": [],
   "execution_count": null
  },
  {
   "metadata": {},
   "cell_type": "code",
   "source": "missing_predicted_df = pd.DataFrame({\"isbn13\": isbns, \"predicted_categories\": predicted_cats})",
   "id": "c37c1185dab11cd8",
   "outputs": [],
   "execution_count": null
  },
  {
   "metadata": {},
   "cell_type": "code",
   "source": "missing_predicted_df",
   "id": "3c2bdc57ab262926",
   "outputs": [],
   "execution_count": null
  },
  {
   "metadata": {},
   "cell_type": "code",
   "source": [
    "books = pd.merge(books, missing_predicted_df, on=\"isbn13\", how=\"left\")\n",
    "books[\"simple_categories\"] = np.where(books[\"simple_categories\"].isna(), books[\"predicted_categories\"], books[\"simple_categories\"])\n",
    "books = books.drop(columns = [\"predicted_categories\"])"
   ],
   "id": "450b45dc6503a961",
   "outputs": [],
   "execution_count": null
  },
  {
   "metadata": {},
   "cell_type": "code",
   "source": "books",
   "id": "2ed39d316f24b506",
   "outputs": [],
   "execution_count": null
  },
  {
   "metadata": {},
   "cell_type": "code",
   "source": [
    "books[books[\"categories\"].str.lower().isin([\n",
    "    \"romance\",\n",
    "    \"science fiction\",\n",
    "    \"scifi\",\n",
    "    \"fantasy\",\n",
    "    \"horror\",\n",
    "    \"mystery\",\n",
    "    \"thriller\",\n",
    "    \"comedy\",\n",
    "    \"crime\",\n",
    "    \"historical\"\n",
    "])]"
   ],
   "id": "6a58208b3327eed3",
   "outputs": [],
   "execution_count": null
  },
  {
   "metadata": {},
   "cell_type": "code",
   "source": "books.to_csv(\"books_with_categories.csv\", index=False)",
   "id": "5fba504bb7d6e93d",
   "outputs": [],
   "execution_count": null
  }
 ],
 "metadata": {
  "kernelspec": {
   "display_name": "Python 3",
   "language": "python",
   "name": "python3"
  },
  "language_info": {
   "codemirror_mode": {
    "name": "ipython",
    "version": 2
   },
   "file_extension": ".py",
   "mimetype": "text/x-python",
   "name": "python",
   "nbconvert_exporter": "python",
   "pygments_lexer": "ipython2",
   "version": "2.7.6"
  }
 },
 "nbformat": 4,
 "nbformat_minor": 5
}
